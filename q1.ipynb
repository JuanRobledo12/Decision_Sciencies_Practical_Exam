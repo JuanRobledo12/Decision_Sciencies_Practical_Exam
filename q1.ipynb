{
 "cells": [
  {
   "cell_type": "markdown",
   "metadata": {},
   "source": [
    "## Question 1: Comprehensive Data Acquisition and Preprocessing \n",
    "**Task:** \n",
    "Download and preprocess CO2 emissions data along with a wide range of socio-economic \n",
    "and environmental indicators from the World Bank’s Climate Change database. \n",
    " \n",
    "**Instructions:** \n",
    "1. Access the World Bank database using Python, R, or MATLAB. \n",
    "2. Download CO2 emissions data and as many relevant socio-economic and environmental \n",
    "indicators as possible (e.g., GDP, population, energy consumption, urbanization rate, \n",
    "education level, etc.). \n",
    "3. Clean and preprocess the data, addressing missing values, outliers, and ensuring \n",
    "consistency across indicators. \n",
    "4. Provide a detailed summary of the dataset, including key statistics, correlations between \n",
    "variables, and any notable patterns or anomalies"
   ]
  },
  {
   "cell_type": "code",
   "execution_count": 6,
   "metadata": {},
   "outputs": [],
   "source": [
    "from helpers import GetData\n",
    "import pandas as pd"
   ]
  },
  {
   "cell_type": "code",
   "execution_count": 2,
   "metadata": {},
   "outputs": [],
   "source": [
    "%load_ext autoreload\n",
    "%autoreload 2"
   ]
  },
  {
   "cell_type": "code",
   "execution_count": 3,
   "metadata": {},
   "outputs": [],
   "source": [
    "data_getter = GetData()"
   ]
  },
  {
   "cell_type": "code",
   "execution_count": 4,
   "metadata": {},
   "outputs": [],
   "source": [
    "indicators_id_ls = ['EG.USE.PCAP.KG.OE', 'EG.USE.ELEC.KH.PC', 'NY.GDP.MKTP.CD', 'SE.ADT.LITR.ZS', 'EN.ATM.CO2E.KT', 'SP.POP.TOTL', 'SP.URB.TOTL']\n",
    "# data_getter.download_data(indicators_id_ls, 'raw_data')"
   ]
  },
  {
   "cell_type": "code",
   "execution_count": 5,
   "metadata": {},
   "outputs": [
    {
     "name": "stdout",
     "output_type": "stream",
     "text": [
      "Renamed API_EG.USE.PCAP.KG.OE_DS2_en_csv_v2_3408991.csv to EG.USE.PCAP.KG.OE.csv\n",
      "Renamed API_EG.USE.ELEC.KH.PC_DS2_en_csv_v2_3428121.csv to EG.USE.ELEC.KH.PC.csv\n",
      "Renamed API_NY.GDP.MKTP.CD_DS2_en_csv_v2_3403845.csv to NY.GDP.MKTP.CD.csv\n",
      "Renamed API_SE.ADT.LITR.ZS_DS2_en_csv_v2_3401708.csv to SE.ADT.LITR.ZS.csv\n",
      "Renamed API_EN.ATM.CO2E.KT_DS2_en_csv_v2_3402138.csv to EN.ATM.CO2E.KT.csv\n",
      "Renamed API_SP.POP.TOTL_DS2_en_csv_v2_3401680.csv to SP.POP.TOTL.csv\n",
      "Renamed API_SP.URB.TOTL_DS2_en_csv_v2_3425772.csv to SP.URB.TOTL.csv\n",
      "Renaming completed.\n"
     ]
    }
   ],
   "source": [
    "# Unzip and rename csv files. Uncomment if its the first time you run the notebook\n",
    "# data_getter.unzip_downloaded_files()\n",
    "# data_getter.rename_csv_files(indicator_ids=indicators_id_ls)"
   ]
  },
  {
   "cell_type": "code",
   "execution_count": 9,
   "metadata": {},
   "outputs": [],
   "source": [
    "energy_use_df = pd.read_csv('raw_data/csv_files/EG.USE.PCAP.KG.OE.csv', skiprows=4)\n",
    "elect_power_consm_df = pd.read_csv('raw_data/csv_files/EG.USE.ELEC.KH.PC.csv', skiprows=4)\n",
    "gdp_df = pd.read_csv('raw_data/csv_files/NY.GDP.MKTP.CD.csv', skiprows=4)\n",
    "literacy_rate_df = pd.read_csv('raw_data/csv_files/SE.ADT.LITR.ZS.csv', skiprows=4)\n",
    "cotwo_emissions_df = pd.read_csv('raw_data/csv_files/EN.ATM.CO2E.KT.csv', skiprows=4)\n",
    "popu_total_df = pd.read_csv('raw_data/csv_files/SP.POP.TOTL.csv', skiprows=4)\n",
    "urban_popu_df = pd.read_csv('raw_data/csv_files/SP.URB.TOTL.csv', skiprows=4)\n"
   ]
  },
  {
   "cell_type": "code",
   "execution_count": null,
   "metadata": {},
   "outputs": [],
   "source": [
    "cotwo_emissions_df.head()"
   ]
  }
 ],
 "metadata": {
  "kernelspec": {
   "display_name": "base",
   "language": "python",
   "name": "python3"
  },
  "language_info": {
   "codemirror_mode": {
    "name": "ipython",
    "version": 3
   },
   "file_extension": ".py",
   "mimetype": "text/x-python",
   "name": "python",
   "nbconvert_exporter": "python",
   "pygments_lexer": "ipython3",
   "version": "3.11.7"
  }
 },
 "nbformat": 4,
 "nbformat_minor": 2
}
