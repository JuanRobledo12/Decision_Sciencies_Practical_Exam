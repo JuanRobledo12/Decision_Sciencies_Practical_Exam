{
 "cells": [
  {
   "cell_type": "markdown",
   "metadata": {},
   "source": [
    "## Question 1: Comprehensive Data Acquisition and Preprocessing \n",
    "**Task:** \n",
    "Download and preprocess CO2 emissions data along with a wide range of socio-economic \n",
    "and environmental indicators from the World Bank’s Climate Change database. \n",
    " \n",
    "**Instructions:** \n",
    "1. Access the World Bank database using Python, R, or MATLAB. \n",
    "2. Download CO2 emissions data and as many relevant socio-economic and environmental \n",
    "indicators as possible (e.g., GDP, population, energy consumption, urbanization rate, \n",
    "education level, etc.). \n",
    "3. Clean and preprocess the data, addressing missing values, outliers, and ensuring \n",
    "consistency across indicators. \n",
    "4. Provide a detailed summary of the dataset, including key statistics, correlations between \n",
    "variables, and any notable patterns or anomalies\n",
    "\n",
    "**How to use**\n",
    "- The API calls aren't working at the moment since I am obtaining a 502 error code from the World Bank Database server.\n",
    "- You can run all cells, just make sure to uncomment cell 5 if it's the first time you run it.\n",
    "- Please refer to the deliverables folder and the [q1.md](deliverables/q1.md) file for an overview of the results of this first question."
   ]
  },
  {
   "cell_type": "code",
   "execution_count": 1,
   "metadata": {},
   "outputs": [
    {
     "name": "stderr",
     "output_type": "stream",
     "text": [
      "Key '2572116086130111078' not in persistent cache.\n",
      "Key '-8432638068931429607' not in persistent cache.\n",
      "Key '6966304242584891041' not in persistent cache.\n",
      "Key '-8930835760588398345' not in persistent cache.\n",
      "Key '3439344468497918485' not in persistent cache.\n",
      "Key '-5411766246040514076' not in persistent cache.\n",
      "Key '2487318062359677408' not in persistent cache.\n",
      "Key '2572116086130111078' not in persistent cache.\n",
      "Key '-8432638068931429607' not in persistent cache.\n",
      "Key '6966304242584891041' not in persistent cache.\n",
      "Key '-8930835760588398345' not in persistent cache.\n",
      "Key '3439344468497918485' not in persistent cache.\n",
      "Key '-5411766246040514076' not in persistent cache.\n",
      "Key '2487318062359677408' not in persistent cache.\n",
      "Key '2572116086130111078' not in persistent cache.\n",
      "Key '-8432638068931429607' not in persistent cache.\n",
      "Key '6966304242584891041' not in persistent cache.\n",
      "Key '-8930835760588398345' not in persistent cache.\n",
      "Key '3439344468497918485' not in persistent cache.\n",
      "Key '-5411766246040514076' not in persistent cache.\n",
      "Key '2487318062359677408' not in persistent cache.\n",
      "Key '2572116086130111078' not in persistent cache.\n",
      "Key '-8432638068931429607' not in persistent cache.\n",
      "Key '6966304242584891041' not in persistent cache.\n",
      "Key '-8930835760588398345' not in persistent cache.\n",
      "Key '3439344468497918485' not in persistent cache.\n",
      "Key '-5411766246040514076' not in persistent cache.\n",
      "Key '2487318062359677408' not in persistent cache.\n",
      "Key '2572116086130111078' not in persistent cache.\n",
      "Key '-8432638068931429607' not in persistent cache.\n",
      "Key '6966304242584891041' not in persistent cache.\n",
      "Key '-8930835760588398345' not in persistent cache.\n",
      "Key '3439344468497918485' not in persistent cache.\n",
      "Key '-5411766246040514076' not in persistent cache.\n",
      "Key '2487318062359677408' not in persistent cache.\n",
      "Key '2572116086130111078' not in persistent cache.\n",
      "Key '-8432638068931429607' not in persistent cache.\n",
      "Key '6966304242584891041' not in persistent cache.\n",
      "Key '-8930835760588398345' not in persistent cache.\n",
      "Key '3439344468497918485' not in persistent cache.\n",
      "Key '-5411766246040514076' not in persistent cache.\n",
      "Key '2487318062359677408' not in persistent cache.\n",
      "Key '2572116086130111078' not in persistent cache.\n",
      "Key '-8432638068931429607' not in persistent cache.\n",
      "Key '6966304242584891041' not in persistent cache.\n",
      "Key '-8930835760588398345' not in persistent cache.\n",
      "Key '3439344468497918485' not in persistent cache.\n",
      "Key '-5411766246040514076' not in persistent cache.\n",
      "Key '2487318062359677408' not in persistent cache.\n",
      "Key '2572116086130111078' not in persistent cache.\n",
      "Key '-8432638068931429607' not in persistent cache.\n",
      "Key '6966304242584891041' not in persistent cache.\n",
      "Key '-8930835760588398345' not in persistent cache.\n",
      "Key '3439344468497918485' not in persistent cache.\n",
      "Key '-5411766246040514076' not in persistent cache.\n",
      "Key '2487318062359677408' not in persistent cache.\n",
      "Key '2572116086130111078' not in persistent cache.\n",
      "Key '-8432638068931429607' not in persistent cache.\n",
      "Key '6966304242584891041' not in persistent cache.\n",
      "Key '-8930835760588398345' not in persistent cache.\n",
      "Key '3439344468497918485' not in persistent cache.\n",
      "Key '-5411766246040514076' not in persistent cache.\n",
      "Key '2487318062359677408' not in persistent cache.\n"
     ]
    }
   ],
   "source": [
    "import wbdata\n",
    "import pandas as pd\n",
    "from datetime import datetime\n",
    "from helpers_v2 import *"
   ]
  },
  {
   "cell_type": "code",
   "execution_count": 2,
   "metadata": {},
   "outputs": [],
   "source": [
    "%load_ext autoreload\n",
    "%autoreload 2"
   ]
  },
  {
   "cell_type": "code",
   "execution_count": 3,
   "metadata": {},
   "outputs": [],
   "source": [
    "manipulate_data = DataManipulation()"
   ]
  },
  {
   "cell_type": "code",
   "execution_count": 4,
   "metadata": {},
   "outputs": [
    {
     "name": "stdout",
     "output_type": "stream",
     "text": [
      "Downloading data from 1990 to 2020\n"
     ]
    }
   ],
   "source": [
    "# Uncomment this if you want to download the data from the API.\n",
    "indicators = {\n",
    "    'EN.ATM.CO2E.KT': 'CO2_emissions',        # CO2 emissions (kt)\n",
    "    'NY.GDP.MKTP.CD': 'GDP',                  # GDP (current US$)\n",
    "    'SP.POP.TOTL': 'Population',              # Population, total\n",
    "    'EG.USE.PCAP.KG.OE': 'Energy_use',        # Energy use (kg of oil equivalent per capita)\n",
    "    'SP.URB.TOTL.IN.ZS': 'Urbanization_rate', # Urban population (% of total population)\n",
    "    'EG.ELC.RNEW.ZS' : 'Renewable_elec_output' # Renewable electricity output (% of total electricity output)\n",
    "}\n",
    "\n",
    "date_range = ('1990', '2020') # Dates where CO2 data is avaliable\n",
    "\n",
    "df = manipulate_data.get_wb_data(indicators, date_range)\n",
    "\n",
    "df.to_csv('raw_data/wbdata_raw.csv', index=False)\n",
    "\n",
    "# Note: we didn't include any education-related factor since they have a lot of missing data"
   ]
  },
  {
   "cell_type": "code",
   "execution_count": 5,
   "metadata": {},
   "outputs": [
    {
     "data": {
      "text/html": [
       "<div>\n",
       "<style scoped>\n",
       "    .dataframe tbody tr th:only-of-type {\n",
       "        vertical-align: middle;\n",
       "    }\n",
       "\n",
       "    .dataframe tbody tr th {\n",
       "        vertical-align: top;\n",
       "    }\n",
       "\n",
       "    .dataframe thead th {\n",
       "        text-align: right;\n",
       "    }\n",
       "</style>\n",
       "<table border=\"1\" class=\"dataframe\">\n",
       "  <thead>\n",
       "    <tr style=\"text-align: right;\">\n",
       "      <th></th>\n",
       "      <th>country</th>\n",
       "      <th>date</th>\n",
       "      <th>CO2_emissions</th>\n",
       "      <th>GDP</th>\n",
       "      <th>Population</th>\n",
       "      <th>Energy_use</th>\n",
       "      <th>Urbanization_rate</th>\n",
       "      <th>Renewable_elec_output</th>\n",
       "    </tr>\n",
       "  </thead>\n",
       "  <tbody>\n",
       "    <tr>\n",
       "      <th>0</th>\n",
       "      <td>Africa Eastern and Southern</td>\n",
       "      <td>2020</td>\n",
       "      <td>544952.5030</td>\n",
       "      <td>9.290741e+11</td>\n",
       "      <td>685112979.0</td>\n",
       "      <td>NaN</td>\n",
       "      <td>36.828302</td>\n",
       "      <td>NaN</td>\n",
       "    </tr>\n",
       "    <tr>\n",
       "      <th>1</th>\n",
       "      <td>Africa Eastern and Southern</td>\n",
       "      <td>2019</td>\n",
       "      <td>610723.5000</td>\n",
       "      <td>1.006527e+12</td>\n",
       "      <td>667242986.0</td>\n",
       "      <td>NaN</td>\n",
       "      <td>36.336259</td>\n",
       "      <td>NaN</td>\n",
       "    </tr>\n",
       "    <tr>\n",
       "      <th>2</th>\n",
       "      <td>Africa Eastern and Southern</td>\n",
       "      <td>2018</td>\n",
       "      <td>598720.9575</td>\n",
       "      <td>1.012719e+12</td>\n",
       "      <td>649757148.0</td>\n",
       "      <td>NaN</td>\n",
       "      <td>35.847598</td>\n",
       "      <td>NaN</td>\n",
       "    </tr>\n",
       "    <tr>\n",
       "      <th>3</th>\n",
       "      <td>Africa Eastern and Southern</td>\n",
       "      <td>2017</td>\n",
       "      <td>590905.4820</td>\n",
       "      <td>9.401055e+11</td>\n",
       "      <td>632746570.0</td>\n",
       "      <td>NaN</td>\n",
       "      <td>35.358901</td>\n",
       "      <td>NaN</td>\n",
       "    </tr>\n",
       "    <tr>\n",
       "      <th>4</th>\n",
       "      <td>Africa Eastern and Southern</td>\n",
       "      <td>2016</td>\n",
       "      <td>580219.2420</td>\n",
       "      <td>8.298300e+11</td>\n",
       "      <td>616377605.0</td>\n",
       "      <td>NaN</td>\n",
       "      <td>34.894753</td>\n",
       "      <td>NaN</td>\n",
       "    </tr>\n",
       "  </tbody>\n",
       "</table>\n",
       "</div>"
      ],
      "text/plain": [
       "                       country  date  CO2_emissions           GDP  \\\n",
       "0  Africa Eastern and Southern  2020    544952.5030  9.290741e+11   \n",
       "1  Africa Eastern and Southern  2019    610723.5000  1.006527e+12   \n",
       "2  Africa Eastern and Southern  2018    598720.9575  1.012719e+12   \n",
       "3  Africa Eastern and Southern  2017    590905.4820  9.401055e+11   \n",
       "4  Africa Eastern and Southern  2016    580219.2420  8.298300e+11   \n",
       "\n",
       "    Population  Energy_use  Urbanization_rate  Renewable_elec_output  \n",
       "0  685112979.0         NaN          36.828302                    NaN  \n",
       "1  667242986.0         NaN          36.336259                    NaN  \n",
       "2  649757148.0         NaN          35.847598                    NaN  \n",
       "3  632746570.0         NaN          35.358901                    NaN  \n",
       "4  616377605.0         NaN          34.894753                    NaN  "
      ]
     },
     "execution_count": 5,
     "metadata": {},
     "output_type": "execute_result"
    }
   ],
   "source": [
    "df.head()"
   ]
  },
  {
   "cell_type": "code",
   "execution_count": 6,
   "metadata": {},
   "outputs": [
    {
     "name": "stdout",
     "output_type": "stream",
     "text": [
      "<class 'wbdata.client.DataFrame'>\n",
      "RangeIndex: 8246 entries, 0 to 8245\n",
      "Data columns (total 8 columns):\n",
      " #   Column                 Non-Null Count  Dtype  \n",
      "---  ------                 --------------  -----  \n",
      " 0   country                8246 non-null   object \n",
      " 1   date                   8246 non-null   object \n",
      " 2   CO2_emissions          7408 non-null   float64\n",
      " 3   GDP                    7839 non-null   float64\n",
      " 4   Population             8215 non-null   float64\n",
      " 5   Energy_use             4740 non-null   float64\n",
      " 6   Urbanization_rate      8153 non-null   float64\n",
      " 7   Renewable_elec_output  6894 non-null   float64\n",
      "dtypes: float64(6), object(2)\n",
      "memory usage: 515.5+ KB\n"
     ]
    }
   ],
   "source": [
    "df.info()"
   ]
  },
  {
   "cell_type": "code",
   "execution_count": 7,
   "metadata": {},
   "outputs": [
    {
     "name": "stdout",
     "output_type": "stream",
     "text": [
      "# of countries in the dataset: 186\n"
     ]
    }
   ],
   "source": [
    "# Eliminate non country data\n",
    "df = manipulate_data.eliminate_non_country_data(df) \n",
    "print(f'# of countries in the dataset: {len(df.country.unique())}')\n"
   ]
  },
  {
   "cell_type": "code",
   "execution_count": 8,
   "metadata": {},
   "outputs": [
    {
     "name": "stdout",
     "output_type": "stream",
     "text": [
      "country                   0.000000\n",
      "date                      0.000000\n",
      "CO2_emissions             9.157128\n",
      "GDP                       3.520638\n",
      "Population                0.000000\n",
      "Energy_use               44.779743\n",
      "Urbanization_rate         0.000000\n",
      "Renewable_elec_output    16.059660\n",
      "dtype: float64\n"
     ]
    }
   ],
   "source": [
    "manipulate_data.missing_data_percentage(df)"
   ]
  },
  {
   "cell_type": "code",
   "execution_count": 9,
   "metadata": {},
   "outputs": [
    {
     "name": "stdout",
     "output_type": "stream",
     "text": [
      "# of years in the dataset: 31\n"
     ]
    }
   ],
   "source": [
    "# Checking the number of years in the current df\n",
    "print(f'# of years in the dataset: {len(df.date.unique())}')"
   ]
  },
  {
   "cell_type": "code",
   "execution_count": 10,
   "metadata": {},
   "outputs": [
    {
     "data": {
      "text/html": [
       "<div>\n",
       "<style scoped>\n",
       "    .dataframe tbody tr th:only-of-type {\n",
       "        vertical-align: middle;\n",
       "    }\n",
       "\n",
       "    .dataframe tbody tr th {\n",
       "        vertical-align: top;\n",
       "    }\n",
       "\n",
       "    .dataframe thead th {\n",
       "        text-align: right;\n",
       "    }\n",
       "</style>\n",
       "<table border=\"1\" class=\"dataframe\">\n",
       "  <thead>\n",
       "    <tr style=\"text-align: right;\">\n",
       "      <th></th>\n",
       "      <th>country</th>\n",
       "      <th>CO2_emissions</th>\n",
       "      <th>GDP</th>\n",
       "      <th>Energy_use</th>\n",
       "      <th>Renewable_elec_output</th>\n",
       "    </tr>\n",
       "  </thead>\n",
       "  <tbody>\n",
       "    <tr>\n",
       "      <th>138</th>\n",
       "      <td>Puerto Rico</td>\n",
       "      <td>31</td>\n",
       "      <td>0</td>\n",
       "      <td>31</td>\n",
       "      <td>5</td>\n",
       "    </tr>\n",
       "    <tr>\n",
       "      <th>110</th>\n",
       "      <td>Monaco</td>\n",
       "      <td>31</td>\n",
       "      <td>0</td>\n",
       "      <td>31</td>\n",
       "      <td>5</td>\n",
       "    </tr>\n",
       "    <tr>\n",
       "      <th>33</th>\n",
       "      <td>Cayman Islands</td>\n",
       "      <td>31</td>\n",
       "      <td>16</td>\n",
       "      <td>31</td>\n",
       "      <td>5</td>\n",
       "    </tr>\n",
       "    <tr>\n",
       "      <th>120</th>\n",
       "      <td>New Caledonia</td>\n",
       "      <td>31</td>\n",
       "      <td>0</td>\n",
       "      <td>31</td>\n",
       "      <td>5</td>\n",
       "    </tr>\n",
       "    <tr>\n",
       "      <th>69</th>\n",
       "      <td>Guam</td>\n",
       "      <td>31</td>\n",
       "      <td>12</td>\n",
       "      <td>31</td>\n",
       "      <td>5</td>\n",
       "    </tr>\n",
       "  </tbody>\n",
       "</table>\n",
       "</div>"
      ],
      "text/plain": [
       "            country  CO2_emissions  GDP  Energy_use  Renewable_elec_output\n",
       "138     Puerto Rico             31    0          31                      5\n",
       "110          Monaco             31    0          31                      5\n",
       "33   Cayman Islands             31   16          31                      5\n",
       "120   New Caledonia             31    0          31                      5\n",
       "69             Guam             31   12          31                      5"
      ]
     },
     "execution_count": 10,
     "metadata": {},
     "output_type": "execute_result"
    }
   ],
   "source": [
    "# Count missing values per country\n",
    "missing_values_by_country = manipulate_data.get_missing_value_groupby(df, groupby_column='country', sort_by='CO2_emissions')\n",
    "missing_values_by_country.head()\n"
   ]
  },
  {
   "cell_type": "code",
   "execution_count": 12,
   "metadata": {},
   "outputs": [
    {
     "name": "stdout",
     "output_type": "stream",
     "text": [
      "31\n",
      "15.5\n"
     ]
    },
    {
     "data": {
      "text/plain": [
       "138       Puerto Rico\n",
       "110            Monaco\n",
       "33     Cayman Islands\n",
       "120     New Caledonia\n",
       "69               Guam\n",
       "            ...      \n",
       "57               Fiji\n",
       "73             Guyana\n",
       "68            Grenada\n",
       "71             Guinea\n",
       "72      Guinea-Bissau\n",
       "Name: country, Length: 67, dtype: object"
      ]
     },
     "execution_count": 12,
     "metadata": {},
     "output_type": "execute_result"
    }
   ],
   "source": [
    "countries_to_remove = manipulate_data.get_items_to_remove(df, missing_values_by_country, target_col_name='date', groupby_col = 'country')\n",
    "list(countries_to_remove)"
   ]
  },
  {
   "cell_type": "code",
   "execution_count": 13,
   "metadata": {},
   "outputs": [
    {
     "name": "stdout",
     "output_type": "stream",
     "text": [
      "<class 'wbdata.client.DataFrame'>\n",
      "RangeIndex: 3689 entries, 0 to 3688\n",
      "Data columns (total 8 columns):\n",
      " #   Column                 Non-Null Count  Dtype  \n",
      "---  ------                 --------------  -----  \n",
      " 0   country                3689 non-null   object \n",
      " 1   date                   3689 non-null   object \n",
      " 2   CO2_emissions          3688 non-null   float64\n",
      " 3   GDP                    3656 non-null   float64\n",
      " 4   Population             3689 non-null   float64\n",
      " 5   Energy_use             2994 non-null   float64\n",
      " 6   Urbanization_rate      3689 non-null   float64\n",
      " 7   Renewable_elec_output  3098 non-null   float64\n",
      "dtypes: float64(6), object(2)\n",
      "memory usage: 230.7+ KB\n"
     ]
    }
   ],
   "source": [
    "df = df[~df.country.isin(countries_to_remove)].reset_index(drop=True)\n",
    "df.info()"
   ]
  },
  {
   "cell_type": "code",
   "execution_count": 14,
   "metadata": {},
   "outputs": [
    {
     "name": "stdout",
     "output_type": "stream",
     "text": [
      "# of countries in the dataset: 119\n"
     ]
    }
   ],
   "source": [
    "# Print current number of countries\n",
    "print(f'# of countries in the dataset: {len(df.country.unique())}')"
   ]
  },
  {
   "cell_type": "code",
   "execution_count": 15,
   "metadata": {},
   "outputs": [
    {
     "data": {
      "text/html": [
       "<div>\n",
       "<style scoped>\n",
       "    .dataframe tbody tr th:only-of-type {\n",
       "        vertical-align: middle;\n",
       "    }\n",
       "\n",
       "    .dataframe tbody tr th {\n",
       "        vertical-align: top;\n",
       "    }\n",
       "\n",
       "    .dataframe thead th {\n",
       "        text-align: right;\n",
       "    }\n",
       "</style>\n",
       "<table border=\"1\" class=\"dataframe\">\n",
       "  <thead>\n",
       "    <tr style=\"text-align: right;\">\n",
       "      <th></th>\n",
       "      <th>date</th>\n",
       "      <th>CO2_emissions</th>\n",
       "      <th>GDP</th>\n",
       "      <th>Energy_use</th>\n",
       "      <th>Renewable_elec_output</th>\n",
       "    </tr>\n",
       "  </thead>\n",
       "  <tbody>\n",
       "    <tr>\n",
       "      <th>30</th>\n",
       "      <td>2020</td>\n",
       "      <td>0</td>\n",
       "      <td>1</td>\n",
       "      <td>119</td>\n",
       "      <td>119</td>\n",
       "    </tr>\n",
       "    <tr>\n",
       "      <th>29</th>\n",
       "      <td>2019</td>\n",
       "      <td>0</td>\n",
       "      <td>1</td>\n",
       "      <td>119</td>\n",
       "      <td>118</td>\n",
       "    </tr>\n",
       "    <tr>\n",
       "      <th>28</th>\n",
       "      <td>2018</td>\n",
       "      <td>0</td>\n",
       "      <td>1</td>\n",
       "      <td>119</td>\n",
       "      <td>118</td>\n",
       "    </tr>\n",
       "    <tr>\n",
       "      <th>27</th>\n",
       "      <td>2017</td>\n",
       "      <td>0</td>\n",
       "      <td>1</td>\n",
       "      <td>119</td>\n",
       "      <td>118</td>\n",
       "    </tr>\n",
       "    <tr>\n",
       "      <th>26</th>\n",
       "      <td>2016</td>\n",
       "      <td>0</td>\n",
       "      <td>1</td>\n",
       "      <td>119</td>\n",
       "      <td>118</td>\n",
       "    </tr>\n",
       "  </tbody>\n",
       "</table>\n",
       "</div>"
      ],
      "text/plain": [
       "    date  CO2_emissions  GDP  Energy_use  Renewable_elec_output\n",
       "30  2020              0    1         119                    119\n",
       "29  2019              0    1         119                    118\n",
       "28  2018              0    1         119                    118\n",
       "27  2017              0    1         119                    118\n",
       "26  2016              0    1         119                    118"
      ]
     },
     "execution_count": 15,
     "metadata": {},
     "output_type": "execute_result"
    }
   ],
   "source": [
    "# Count missing values per year\n",
    "missing_values_by_year = manipulate_data.get_missing_value_groupby(df, groupby_column='date', sort_by='Energy_use')\n",
    "missing_values_by_year.head()"
   ]
  },
  {
   "cell_type": "code",
   "execution_count": 16,
   "metadata": {},
   "outputs": [
    {
     "data": {
      "text/plain": [
       "25    2015\n",
       "26    2016\n",
       "27    2017\n",
       "28    2018\n",
       "29    2019\n",
       "30    2020\n",
       "Name: date, dtype: object"
      ]
     },
     "execution_count": 16,
     "metadata": {},
     "output_type": "execute_result"
    }
   ],
   "source": [
    "years_to_remove = manipulate_data.get_items_to_remove(df, missing_values_by_year, target_col_name='country', groupby_col='date')\n",
    "years_to_remove.sort_values()"
   ]
  },
  {
   "cell_type": "code",
   "execution_count": 17,
   "metadata": {},
   "outputs": [
    {
     "name": "stdout",
     "output_type": "stream",
     "text": [
      "<class 'wbdata.client.DataFrame'>\n",
      "RangeIndex: 2975 entries, 0 to 2974\n",
      "Data columns (total 8 columns):\n",
      " #   Column                 Non-Null Count  Dtype  \n",
      "---  ------                 --------------  -----  \n",
      " 0   country                2975 non-null   object \n",
      " 1   date                   2975 non-null   object \n",
      " 2   CO2_emissions          2974 non-null   float64\n",
      " 3   GDP                    2948 non-null   float64\n",
      " 4   Population             2975 non-null   float64\n",
      " 5   Energy_use             2963 non-null   float64\n",
      " 6   Urbanization_rate      2975 non-null   float64\n",
      " 7   Renewable_elec_output  2975 non-null   float64\n",
      "dtypes: float64(6), object(2)\n",
      "memory usage: 186.1+ KB\n"
     ]
    }
   ],
   "source": [
    "df = df[~df.date.isin(years_to_remove)].reset_index(drop=True)\n",
    "df.info()"
   ]
  },
  {
   "cell_type": "code",
   "execution_count": 18,
   "metadata": {},
   "outputs": [
    {
     "data": {
      "text/plain": [
       "array(['2014', '2013', '2012', '2011', '2010', '2009', '2008', '2007',\n",
       "       '2006', '2005', '2004', '2003', '2002', '2001', '2000', '1999',\n",
       "       '1998', '1997', '1996', '1995', '1994', '1993', '1992', '1991',\n",
       "       '1990'], dtype=object)"
      ]
     },
     "execution_count": 18,
     "metadata": {},
     "output_type": "execute_result"
    }
   ],
   "source": [
    "df.date.unique()"
   ]
  },
  {
   "cell_type": "code",
   "execution_count": 19,
   "metadata": {},
   "outputs": [
    {
     "name": "stdout",
     "output_type": "stream",
     "text": [
      "country                  0.000000\n",
      "date                     0.000000\n",
      "CO2_emissions            0.033613\n",
      "GDP                      0.907563\n",
      "Population               0.000000\n",
      "Energy_use               0.403361\n",
      "Urbanization_rate        0.000000\n",
      "Renewable_elec_output    0.000000\n",
      "dtype: float64\n"
     ]
    }
   ],
   "source": [
    "manipulate_data.missing_data_percentage(df)"
   ]
  },
  {
   "cell_type": "code",
   "execution_count": null,
   "metadata": {},
   "outputs": [],
   "source": [
    "# Imputing data"
   ]
  }
 ],
 "metadata": {
  "kernelspec": {
   "display_name": "base",
   "language": "python",
   "name": "python3"
  },
  "language_info": {
   "codemirror_mode": {
    "name": "ipython",
    "version": 3
   },
   "file_extension": ".py",
   "mimetype": "text/x-python",
   "name": "python",
   "nbconvert_exporter": "python",
   "pygments_lexer": "ipython3",
   "version": "3.12.4"
  }
 },
 "nbformat": 4,
 "nbformat_minor": 2
}
