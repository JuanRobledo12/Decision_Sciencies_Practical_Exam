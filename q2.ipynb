{
 "cells": [
  {
   "cell_type": "markdown",
   "metadata": {},
   "source": [
    "# Question 2: Predictive Modeling and Scenario Analysis \n",
    "**Task**: \n",
    "Develop a predictive model to forecast CO2 emissions based on the comprehensive set of \n",
    "indicators. Use the model to answer an analytical question: “If a country increases its GDP \n",
    "by 10%, what is the expected percentage change in CO2 emissions, assuming all other \n",
    "factors remain constant?” \n",
    " \n",
    "**Instructions**: \n",
    "1. Split the data into training and testing sets. \n",
    "2. Train a regression model using the socio-economic and environmental indicators as \n",
    "predictors. \n",
    "3. Evaluate the model's performance using appropriate metrics (e.g., RMSE, R²). \n",
    "4. Simulate the scenario where GDP increases by 10% across different countries, keeping \n",
    "other factors constant. \n",
    "5. Analyze and interpret the results, providing a range of expected changes in CO2 \n",
    "emissions across nations. \n",
    "\n",
    "**How to use**\n",
    "- You can run all cells.\n",
    "- Please refer to the deliverables folder and the [q2.md](deliverables/q2.md) file for an overview of implementation and results."
   ]
  },
  {
   "cell_type": "code",
   "execution_count": 1,
   "metadata": {},
   "outputs": [
    {
     "name": "stderr",
     "output_type": "stream",
     "text": [
      "Key '4095110436489415096' not in persistent cache.\n",
      "Key '-3862449154251328547' not in persistent cache.\n",
      "Key '-7643646340887627066' not in persistent cache.\n",
      "Key '-7389408928338301103' not in persistent cache.\n",
      "Key '2895947968731355341' not in persistent cache.\n",
      "Key '6160780070729913647' not in persistent cache.\n",
      "Key '-8852322536110669262' not in persistent cache.\n",
      "Key '4095110436489415096' not in persistent cache.\n",
      "Key '-3862449154251328547' not in persistent cache.\n",
      "Key '-7643646340887627066' not in persistent cache.\n",
      "Key '-7389408928338301103' not in persistent cache.\n",
      "Key '2895947968731355341' not in persistent cache.\n",
      "Key '6160780070729913647' not in persistent cache.\n",
      "Key '-8852322536110669262' not in persistent cache.\n",
      "Key '4095110436489415096' not in persistent cache.\n",
      "Key '-3862449154251328547' not in persistent cache.\n",
      "Key '-7643646340887627066' not in persistent cache.\n",
      "Key '-7389408928338301103' not in persistent cache.\n",
      "Key '2895947968731355341' not in persistent cache.\n",
      "Key '6160780070729913647' not in persistent cache.\n",
      "Key '-8852322536110669262' not in persistent cache.\n",
      "Key '4095110436489415096' not in persistent cache.\n",
      "Key '-3862449154251328547' not in persistent cache.\n",
      "Key '-7643646340887627066' not in persistent cache.\n",
      "Key '-7389408928338301103' not in persistent cache.\n",
      "Key '2895947968731355341' not in persistent cache.\n",
      "Key '6160780070729913647' not in persistent cache.\n",
      "Key '-8852322536110669262' not in persistent cache.\n",
      "Key '4095110436489415096' not in persistent cache.\n",
      "Key '-3862449154251328547' not in persistent cache.\n",
      "Key '-7643646340887627066' not in persistent cache.\n",
      "Key '-7389408928338301103' not in persistent cache.\n",
      "Key '2895947968731355341' not in persistent cache.\n",
      "Key '6160780070729913647' not in persistent cache.\n",
      "Key '-8852322536110669262' not in persistent cache.\n",
      "Key '4095110436489415096' not in persistent cache.\n",
      "Key '-3862449154251328547' not in persistent cache.\n",
      "Key '-7643646340887627066' not in persistent cache.\n",
      "Key '-7389408928338301103' not in persistent cache.\n",
      "Key '2895947968731355341' not in persistent cache.\n",
      "Key '6160780070729913647' not in persistent cache.\n",
      "Key '-8852322536110669262' not in persistent cache.\n",
      "Key '4095110436489415096' not in persistent cache.\n",
      "Key '-3862449154251328547' not in persistent cache.\n",
      "Key '-7643646340887627066' not in persistent cache.\n",
      "Key '-7389408928338301103' not in persistent cache.\n",
      "Key '2895947968731355341' not in persistent cache.\n",
      "Key '6160780070729913647' not in persistent cache.\n",
      "Key '-8852322536110669262' not in persistent cache.\n",
      "Key '4095110436489415096' not in persistent cache.\n",
      "Key '-3862449154251328547' not in persistent cache.\n",
      "Key '-7643646340887627066' not in persistent cache.\n",
      "Key '-7389408928338301103' not in persistent cache.\n",
      "Key '2895947968731355341' not in persistent cache.\n",
      "Key '6160780070729913647' not in persistent cache.\n",
      "Key '-8852322536110669262' not in persistent cache.\n",
      "Key '4095110436489415096' not in persistent cache.\n",
      "Key '-3862449154251328547' not in persistent cache.\n",
      "Key '-7643646340887627066' not in persistent cache.\n",
      "Key '-7389408928338301103' not in persistent cache.\n",
      "Key '2895947968731355341' not in persistent cache.\n",
      "Key '6160780070729913647' not in persistent cache.\n",
      "Key '-8852322536110669262' not in persistent cache.\n"
     ]
    }
   ],
   "source": [
    "import pandas as pd\n",
    "from helpers_v2 import *\n",
    "from sklearn.model_selection import train_test_split\n",
    "from sklearn.preprocessing import StandardScaler\n",
    "from sklearn.linear_model import LinearRegression, Lasso, Ridge\n",
    "from sklearn.metrics import root_mean_squared_error, r2_score\n",
    "from sklearn.preprocessing import PolynomialFeatures\n",
    "import matplotlib.pyplot as plt"
   ]
  },
  {
   "cell_type": "code",
   "execution_count": 2,
   "metadata": {},
   "outputs": [
    {
     "data": {
      "text/html": [
       "<div>\n",
       "<style scoped>\n",
       "    .dataframe tbody tr th:only-of-type {\n",
       "        vertical-align: middle;\n",
       "    }\n",
       "\n",
       "    .dataframe tbody tr th {\n",
       "        vertical-align: top;\n",
       "    }\n",
       "\n",
       "    .dataframe thead th {\n",
       "        text-align: right;\n",
       "    }\n",
       "</style>\n",
       "<table border=\"1\" class=\"dataframe\">\n",
       "  <thead>\n",
       "    <tr style=\"text-align: right;\">\n",
       "      <th></th>\n",
       "      <th>country</th>\n",
       "      <th>date</th>\n",
       "      <th>Urbanization_rate</th>\n",
       "      <th>Renewable_elec_output</th>\n",
       "      <th>log_CO2_emissions</th>\n",
       "      <th>log_GDP</th>\n",
       "      <th>log_Population</th>\n",
       "      <th>log_Energy_use</th>\n",
       "    </tr>\n",
       "  </thead>\n",
       "  <tbody>\n",
       "    <tr>\n",
       "      <th>0</th>\n",
       "      <td>Australia</td>\n",
       "      <td>2015</td>\n",
       "      <td>85.701</td>\n",
       "      <td>13.637841</td>\n",
       "      <td>12.863031</td>\n",
       "      <td>27.932435</td>\n",
       "      <td>16.985868</td>\n",
       "      <td>8.609739</td>\n",
       "    </tr>\n",
       "    <tr>\n",
       "      <th>1</th>\n",
       "      <td>Australia</td>\n",
       "      <td>2014</td>\n",
       "      <td>85.602</td>\n",
       "      <td>14.906712</td>\n",
       "      <td>12.845999</td>\n",
       "      <td>28.015329</td>\n",
       "      <td>16.971476</td>\n",
       "      <td>8.582172</td>\n",
       "    </tr>\n",
       "    <tr>\n",
       "      <th>2</th>\n",
       "      <td>Australia</td>\n",
       "      <td>2013</td>\n",
       "      <td>85.502</td>\n",
       "      <td>13.264108</td>\n",
       "      <td>12.869864</td>\n",
       "      <td>28.086737</td>\n",
       "      <td>16.956560</td>\n",
       "      <td>8.606923</td>\n",
       "    </tr>\n",
       "    <tr>\n",
       "      <th>3</th>\n",
       "      <td>Australia</td>\n",
       "      <td>2012</td>\n",
       "      <td>85.402</td>\n",
       "      <td>10.592653</td>\n",
       "      <td>12.888389</td>\n",
       "      <td>28.067759</td>\n",
       "      <td>16.939349</td>\n",
       "      <td>8.626278</td>\n",
       "    </tr>\n",
       "    <tr>\n",
       "      <th>4</th>\n",
       "      <td>Australia</td>\n",
       "      <td>2011</td>\n",
       "      <td>85.300</td>\n",
       "      <td>10.426652</td>\n",
       "      <td>12.885216</td>\n",
       "      <td>27.966565</td>\n",
       "      <td>16.921890</td>\n",
       "      <td>8.656300</td>\n",
       "    </tr>\n",
       "  </tbody>\n",
       "</table>\n",
       "</div>"
      ],
      "text/plain": [
       "     country  date  Urbanization_rate  Renewable_elec_output  \\\n",
       "0  Australia  2015             85.701              13.637841   \n",
       "1  Australia  2014             85.602              14.906712   \n",
       "2  Australia  2013             85.502              13.264108   \n",
       "3  Australia  2012             85.402              10.592653   \n",
       "4  Australia  2011             85.300              10.426652   \n",
       "\n",
       "   log_CO2_emissions    log_GDP  log_Population  log_Energy_use  \n",
       "0          12.863031  27.932435       16.985868        8.609739  \n",
       "1          12.845999  28.015329       16.971476        8.582172  \n",
       "2          12.869864  28.086737       16.956560        8.606923  \n",
       "3          12.888389  28.067759       16.939349        8.626278  \n",
       "4          12.885216  27.966565       16.921890        8.656300  "
      ]
     },
     "execution_count": 2,
     "metadata": {},
     "output_type": "execute_result"
    }
   ],
   "source": [
    "df = pd.read_csv('clean_data/wbdata_cleaned.csv')\n",
    "df.head()"
   ]
  },
  {
   "cell_type": "code",
   "execution_count": 3,
   "metadata": {},
   "outputs": [
    {
     "name": "stdout",
     "output_type": "stream",
     "text": [
      "<class 'pandas.core.frame.DataFrame'>\n",
      "RangeIndex: 988 entries, 0 to 987\n",
      "Data columns (total 8 columns):\n",
      " #   Column                 Non-Null Count  Dtype  \n",
      "---  ------                 --------------  -----  \n",
      " 0   country                988 non-null    object \n",
      " 1   date                   988 non-null    int64  \n",
      " 2   Urbanization_rate      988 non-null    float64\n",
      " 3   Renewable_elec_output  988 non-null    float64\n",
      " 4   log_CO2_emissions      988 non-null    float64\n",
      " 5   log_GDP                988 non-null    float64\n",
      " 6   log_Population         988 non-null    float64\n",
      " 7   log_Energy_use         988 non-null    float64\n",
      "dtypes: float64(6), int64(1), object(1)\n",
      "memory usage: 61.9+ KB\n"
     ]
    }
   ],
   "source": [
    "df.info()"
   ]
  },
  {
   "cell_type": "code",
   "execution_count": 4,
   "metadata": {},
   "outputs": [
    {
     "data": {
      "text/html": [
       "<div>\n",
       "<style scoped>\n",
       "    .dataframe tbody tr th:only-of-type {\n",
       "        vertical-align: middle;\n",
       "    }\n",
       "\n",
       "    .dataframe tbody tr th {\n",
       "        vertical-align: top;\n",
       "    }\n",
       "\n",
       "    .dataframe thead th {\n",
       "        text-align: right;\n",
       "    }\n",
       "</style>\n",
       "<table border=\"1\" class=\"dataframe\">\n",
       "  <thead>\n",
       "    <tr style=\"text-align: right;\">\n",
       "      <th></th>\n",
       "      <th>Urbanization_rate</th>\n",
       "      <th>Renewable_elec_output</th>\n",
       "      <th>log_GDP</th>\n",
       "      <th>log_Population</th>\n",
       "      <th>log_Energy_use</th>\n",
       "    </tr>\n",
       "  </thead>\n",
       "  <tbody>\n",
       "    <tr>\n",
       "      <th>0</th>\n",
       "      <td>85.701</td>\n",
       "      <td>13.637841</td>\n",
       "      <td>27.932435</td>\n",
       "      <td>16.985868</td>\n",
       "      <td>8.609739</td>\n",
       "    </tr>\n",
       "    <tr>\n",
       "      <th>1</th>\n",
       "      <td>85.602</td>\n",
       "      <td>14.906712</td>\n",
       "      <td>28.015329</td>\n",
       "      <td>16.971476</td>\n",
       "      <td>8.582172</td>\n",
       "    </tr>\n",
       "    <tr>\n",
       "      <th>2</th>\n",
       "      <td>85.502</td>\n",
       "      <td>13.264108</td>\n",
       "      <td>28.086737</td>\n",
       "      <td>16.956560</td>\n",
       "      <td>8.606923</td>\n",
       "    </tr>\n",
       "    <tr>\n",
       "      <th>3</th>\n",
       "      <td>85.402</td>\n",
       "      <td>10.592653</td>\n",
       "      <td>28.067759</td>\n",
       "      <td>16.939349</td>\n",
       "      <td>8.626278</td>\n",
       "    </tr>\n",
       "    <tr>\n",
       "      <th>4</th>\n",
       "      <td>85.300</td>\n",
       "      <td>10.426652</td>\n",
       "      <td>27.966565</td>\n",
       "      <td>16.921890</td>\n",
       "      <td>8.656300</td>\n",
       "    </tr>\n",
       "  </tbody>\n",
       "</table>\n",
       "</div>"
      ],
      "text/plain": [
       "   Urbanization_rate  Renewable_elec_output    log_GDP  log_Population  \\\n",
       "0             85.701              13.637841  27.932435       16.985868   \n",
       "1             85.602              14.906712  28.015329       16.971476   \n",
       "2             85.502              13.264108  28.086737       16.956560   \n",
       "3             85.402              10.592653  28.067759       16.939349   \n",
       "4             85.300              10.426652  27.966565       16.921890   \n",
       "\n",
       "   log_Energy_use  \n",
       "0        8.609739  \n",
       "1        8.582172  \n",
       "2        8.606923  \n",
       "3        8.626278  \n",
       "4        8.656300  "
      ]
     },
     "execution_count": 4,
     "metadata": {},
     "output_type": "execute_result"
    }
   ],
   "source": [
    "model_evaluation = ModelEvaluation()\n",
    "# Create test and train sets\n",
    "X = df.drop(columns=['country', 'date', 'log_CO2_emissions'])\n",
    "y = df['log_CO2_emissions']\n",
    "\n",
    "X.head()"
   ]
  },
  {
   "cell_type": "code",
   "execution_count": 5,
   "metadata": {},
   "outputs": [
    {
     "data": {
      "text/plain": [
       "0    12.863031\n",
       "1    12.845999\n",
       "2    12.869864\n",
       "3    12.888389\n",
       "4    12.885216\n",
       "Name: log_CO2_emissions, dtype: float64"
      ]
     },
     "execution_count": 5,
     "metadata": {},
     "output_type": "execute_result"
    }
   ],
   "source": [
    "y.head()"
   ]
  },
  {
   "cell_type": "code",
   "execution_count": 6,
   "metadata": {},
   "outputs": [
    {
     "name": "stdout",
     "output_type": "stream",
     "text": [
      "              Model  Poly Degree  Scaling  Average RMSE  Average R²\n",
      "0  LinearRegression          NaN     True      0.236811    0.977467\n",
      "1  LinearRegression          2.0     True      0.193804    0.984789\n",
      "2             Lasso          NaN     True      1.151752    0.480489\n",
      "3             Ridge          NaN     True      0.236870    0.977468\n",
      "4             Lasso          2.0     True      1.108727    0.518562\n",
      "5             Ridge          2.0     True      0.209601    0.982122\n"
     ]
    }
   ],
   "source": [
    "results = []\n",
    "\n",
    "# Experiments to find best model and other parameters\n",
    "results.append(model_evaluation.run_q2_regression_experiment(LinearRegression(), X, y, poly_degree=None))\n",
    "results.append(model_evaluation.run_q2_regression_experiment(LinearRegression(), X, y, poly_degree=2))\n",
    "results.append(model_evaluation.run_q2_regression_experiment(Lasso(), X, y, poly_degree=None))\n",
    "results.append(model_evaluation.run_q2_regression_experiment(Ridge(), X, y, poly_degree=None))\n",
    "results.append(model_evaluation.run_q2_regression_experiment(Lasso(), X, y, poly_degree=2))\n",
    "results.append(model_evaluation.run_q2_regression_experiment(Ridge(), X, y, poly_degree=2))\n",
    "results_df = pd.DataFrame(results)\n",
    "print(results_df)\n"
   ]
  },
  {
   "cell_type": "code",
   "execution_count": 7,
   "metadata": {},
   "outputs": [
    {
     "name": "stdout",
     "output_type": "stream",
     "text": [
      "RMSE: 0.22507639016845538\n",
      "R²: 0.9758085102368483\n",
      "Average percentage change in CO2 emissions: 2.299827607706699%\n"
     ]
    }
   ],
   "source": [
    "# Training a linear regression model with the best parameter we found\n",
    "X_train, X_test, y_train, y_test = train_test_split(X, y, test_size=0.2, random_state=42)\n",
    "\n",
    "\n",
    "poly = PolynomialFeatures(degree=2, include_bias=False)\n",
    "X_train_polynomial = poly.fit_transform(X_train)\n",
    "X_test_polynomial = poly.transform(X_test)\n",
    "\n",
    "scaler = StandardScaler()\n",
    "X_train_scaled = scaler.fit_transform(X_train_polynomial)\n",
    "X_test_scaled = scaler.transform(X_test_polynomial)\n",
    "\n",
    "\n",
    "model = LinearRegression()\n",
    "\n",
    "model.fit(X_train_scaled, y_train)\n",
    "\n",
    "y_pred = model.predict(X_test_scaled)\n",
    "\n",
    "rmse = root_mean_squared_error(y_test, y_pred)\n",
    "r2 = r2_score(y_test, y_pred)\n",
    "\n",
    "print(f\"RMSE: {rmse}\")\n",
    "print(f\"R²: {r2}\")\n",
    "\n",
    "# Scenario Simulation\n",
    "X_test_scenario = X_test.copy()\n",
    "\n",
    "# Increase GDP by 10%\n",
    "X_test_scenario[\"log_GDP\"] *= 1.10\n",
    "\n",
    "X_test_scenario_poly = poly.transform(X_test_scenario)\n",
    "X_test_scenario_scaled = scaler.transform(X_test_scenario_poly)\n",
    "\n",
    "y_pred_scenario = model.predict(X_test_scenario_scaled)\n",
    "\n",
    "# Calculate the percentage change in CO2 emissions\n",
    "percentage_change = ((y_pred_scenario - y_pred) / y_pred) * 100\n",
    "\n",
    "average_change = np.mean(percentage_change)\n",
    "print(f\"Average percentage change in CO2 emissions: {average_change}%\")"
   ]
  },
  {
   "cell_type": "code",
   "execution_count": 8,
   "metadata": {},
   "outputs": [
    {
     "data": {
      "image/png": "[encoded data removed]",
      "text/plain": [
       "<Figure size 640x480 with 1 Axes>"
      ]
     },
     "metadata": {},
     "output_type": "display_data"
    }
   ],
   "source": [
    "plt.hist(percentage_change, bins=20)\n",
    "plt.xlabel(\"Percentage Change in CO2 Emissions\")\n",
    "plt.ylabel(\"Frequency\")\n",
    "plt.title(\"Distribution of Percentage Change in CO2 Emissions\")\n",
    "plt.show()"
   ]
  },
  {
   "cell_type": "code",
   "execution_count": null,
   "metadata": {},
   "outputs": [],
   "source": []
  }
 ],
 "metadata": {
  "kernelspec": {
   "display_name": "practical_exam_env",
   "language": "python",
   "name": "python3"
  },
  "language_info": {
   "codemirror_mode": {
    "name": "ipython",
    "version": 3
   },
   "file_extension": ".py",
   "mimetype": "text/x-python",
   "name": "python",
   "nbconvert_exporter": "python",
   "pygments_lexer": "ipython3",
   "version": "3.12.4"
  }
 },
 "nbformat": 4,
 "nbformat_minor": 2
}
