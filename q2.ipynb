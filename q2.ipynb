{
 "cells": [
  {
   "cell_type": "markdown",
   "metadata": {},
   "source": [
    "# Question 2: Predictive Modeling and Scenario Analysis \n",
    "**Task**: \n",
    "Develop a predictive model to forecast CO2 emissions based on the comprehensive set of \n",
    "indicators. Use the model to answer an analytical question: “If a country increases its GDP \n",
    "by 10%, what is the expected percentage change in CO2 emissions, assuming all other \n",
    "factors remain constant?” \n",
    " \n",
    "**Instructions**: \n",
    "1. Split the data into training and testing sets. \n",
    "2. Train a regression model using the socio-economic and environmental indicators as \n",
    "predictors. \n",
    "3. Evaluate the model's performance using appropriate metrics (e.g., RMSE, R²). \n",
    "4. Simulate the scenario where GDP increases by 10% across different countries, keeping \n",
    "other factors constant. \n",
    "5. Analyze and interpret the results, providing a range of expected changes in CO2 \n",
    "emissions across nations. \n",
    "\n",
    "**How to use**\n",
    "- You can run all cells.\n",
    "- Please refer to the deliverables folder and the [q2.md](deliverables/q2.md) file for an overview of implementation and results."
   ]
  },
  {
   "cell_type": "code",
   "execution_count": 1,
   "metadata": {},
   "outputs": [],
   "source": [
    "import pandas as pd\n",
    "from helpers import *\n",
    "from sklearn.model_selection import train_test_split\n",
    "from sklearn.preprocessing import StandardScaler\n",
    "from sklearn.linear_model import LinearRegression,  Lasso, Ridge\n",
    "from sklearn.metrics import root_mean_squared_error, r2_score\n",
    "from sklearn.preprocessing import PolynomialFeatures\n",
    "import matplotlib.pyplot as plt"
   ]
  },
  {
   "cell_type": "code",
   "execution_count": 2,
   "metadata": {},
   "outputs": [
    {
     "data": {
      "text/html": [
       "<div>\n",
       "<style scoped>\n",
       "    .dataframe tbody tr th:only-of-type {\n",
       "        vertical-align: middle;\n",
       "    }\n",
       "\n",
       "    .dataframe tbody tr th {\n",
       "        vertical-align: top;\n",
       "    }\n",
       "\n",
       "    .dataframe thead th {\n",
       "        text-align: right;\n",
       "    }\n",
       "</style>\n",
       "<table border=\"1\" class=\"dataframe\">\n",
       "  <thead>\n",
       "    <tr style=\"text-align: right;\">\n",
       "      <th></th>\n",
       "      <th>Country Name</th>\n",
       "      <th>Year</th>\n",
       "      <th>Value</th>\n",
       "      <th>Indicator Name</th>\n",
       "    </tr>\n",
       "  </thead>\n",
       "  <tbody>\n",
       "    <tr>\n",
       "      <th>0</th>\n",
       "      <td>Australia</td>\n",
       "      <td>1990</td>\n",
       "      <td>5061.500154</td>\n",
       "      <td>en_use</td>\n",
       "    </tr>\n",
       "    <tr>\n",
       "      <th>1</th>\n",
       "      <td>Austria</td>\n",
       "      <td>1990</td>\n",
       "      <td>3240.111359</td>\n",
       "      <td>en_use</td>\n",
       "    </tr>\n",
       "    <tr>\n",
       "      <th>2</th>\n",
       "      <td>Belgium</td>\n",
       "      <td>1990</td>\n",
       "      <td>4809.867268</td>\n",
       "      <td>en_use</td>\n",
       "    </tr>\n",
       "    <tr>\n",
       "      <th>3</th>\n",
       "      <td>Canada</td>\n",
       "      <td>1990</td>\n",
       "      <td>7630.092306</td>\n",
       "      <td>en_use</td>\n",
       "    </tr>\n",
       "    <tr>\n",
       "      <th>4</th>\n",
       "      <td>Switzerland</td>\n",
       "      <td>1990</td>\n",
       "      <td>3627.692811</td>\n",
       "      <td>en_use</td>\n",
       "    </tr>\n",
       "  </tbody>\n",
       "</table>\n",
       "</div>"
      ],
      "text/plain": [
       "  Country Name  Year        Value Indicator Name\n",
       "0    Australia  1990  5061.500154         en_use\n",
       "1      Austria  1990  3240.111359         en_use\n",
       "2      Belgium  1990  4809.867268         en_use\n",
       "3       Canada  1990  7630.092306         en_use\n",
       "4  Switzerland  1990  3627.692811         en_use"
      ]
     },
     "execution_count": 2,
     "metadata": {},
     "output_type": "execute_result"
    }
   ],
   "source": [
    "df = pd.read_csv('clean_data/initial_q2.csv')\n",
    "df.head()"
   ]
  },
  {
   "cell_type": "code",
   "execution_count": 3,
   "metadata": {},
   "outputs": [
    {
     "name": "stdout",
     "output_type": "stream",
     "text": [
      "<class 'pandas.core.frame.DataFrame'>\n",
      "RangeIndex: 6916 entries, 0 to 6915\n",
      "Data columns (total 4 columns):\n",
      " #   Column          Non-Null Count  Dtype  \n",
      "---  ------          --------------  -----  \n",
      " 0   Country Name    6916 non-null   object \n",
      " 1   Year            6916 non-null   int64  \n",
      " 2   Value           6916 non-null   float64\n",
      " 3   Indicator Name  6916 non-null   object \n",
      "dtypes: float64(1), int64(1), object(2)\n",
      "memory usage: 216.3+ KB\n"
     ]
    }
   ],
   "source": [
    "df.info()"
   ]
  },
  {
   "cell_type": "code",
   "execution_count": 4,
   "metadata": {},
   "outputs": [],
   "source": [
    "# Extract CO2 emissions\n",
    "target_df = df[df[\"Indicator Name\"].str.contains(\"cotwo_emi\")].reset_index(drop=True)\n",
    "features_df = df[~df[\"Indicator Name\"].str.contains(\"cotwo_emi\")].reset_index(drop=True)\n"
   ]
  },
  {
   "cell_type": "code",
   "execution_count": 5,
   "metadata": {},
   "outputs": [
    {
     "name": "stdout",
     "output_type": "stream",
     "text": [
      "  Country Name  Year     Value Indicator Name\n",
      "0    Australia  1990  263437.5      cotwo_emi\n",
      "1      Austria  1990   58275.7      cotwo_emi\n",
      "2      Belgium  1990  109312.6      cotwo_emi\n",
      "3       Canada  1990  419492.2      cotwo_emi\n",
      "4  Switzerland  1990   43326.5      cotwo_emi\n",
      "  Country Name  Year        Value Indicator Name\n",
      "0    Australia  1990  5061.500154         en_use\n",
      "1      Austria  1990  3240.111359         en_use\n",
      "2      Belgium  1990  4809.867268         en_use\n",
      "3       Canada  1990  7630.092306         en_use\n",
      "4  Switzerland  1990  3627.692811         en_use\n"
     ]
    }
   ],
   "source": [
    "print(target_df.head())\n",
    "print(features_df.head())"
   ]
  },
  {
   "cell_type": "code",
   "execution_count": 6,
   "metadata": {},
   "outputs": [
    {
     "name": "stdout",
     "output_type": "stream",
     "text": [
      "-------- target_df_pivot ---------\n",
      " Indicator Name Country Name  Year  cotwo_emi\n",
      "0                 Australia  1990   263437.5\n",
      "1                 Australia  1991   264709.7\n",
      "2                 Australia  1992   268366.5\n",
      "3                 Australia  1993   273016.9\n",
      "4                 Australia  1994   280096.3\n",
      "-------- features_df_pivot --------\n",
      " Indicator Name Country Name  Year       en_use           gdp  popu_total  \\\n",
      "0                 Australia  1990  5061.500154  3.114205e+11  17065128.0   \n",
      "1                 Australia  1991  4927.771326  3.259667e+11  17284036.0   \n",
      "2                 Australia  1992  4963.858162  3.255185e+11  17478635.0   \n",
      "3                 Australia  1993  5156.933379  3.121283e+11  17634808.0   \n",
      "4                 Australia  1994  5103.947956  3.228025e+11  17805468.0   \n",
      "\n",
      "Indicator Name  prim_comp_rate  ren_elec_out  urban_popu  \n",
      "0                    51.212158      9.656031  14579251.0  \n",
      "1                    76.901360     10.598201  14761085.0  \n",
      "2                    53.901711     10.066865  14906654.0  \n",
      "3                    58.607170     10.549144  15017273.0  \n",
      "4                    60.734459     10.194474  15139633.0  \n"
     ]
    }
   ],
   "source": [
    "# Pivot the data to have years as rows and indicators as columns\n",
    "target_df_pivot = target_df.pivot_table(index=[\"Country Name\", \"Year\"], columns=\"Indicator Name\", values=\"Value\").reset_index()\n",
    "features_df_pivot = features_df.pivot_table(index=[\"Country Name\", \"Year\"], columns=\"Indicator Name\", values=\"Value\").reset_index()\n",
    "\n",
    "print('-------- target_df_pivot ---------\\n', target_df_pivot.head())\n",
    "print('-------- features_df_pivot --------\\n', features_df_pivot.head())"
   ]
  },
  {
   "cell_type": "code",
   "execution_count": 7,
   "metadata": {},
   "outputs": [
    {
     "name": "stdout",
     "output_type": "stream",
     "text": [
      "(988, 3)\n",
      "(988, 8)\n"
     ]
    }
   ],
   "source": [
    "print(target_df_pivot.shape)\n",
    "print(features_df_pivot.shape)"
   ]
  },
  {
   "cell_type": "code",
   "execution_count": 8,
   "metadata": {},
   "outputs": [
    {
     "name": "stdout",
     "output_type": "stream",
     "text": [
      "              Model  Poly Degree  Scaling   Average RMSE  Average R²\n",
      "0  LinearRegression          NaN     True  268118.725462    0.896729\n",
      "1  LinearRegression          2.0     True   48047.180916    0.996733\n",
      "2             Lasso          NaN     True  268120.639251    0.896715\n",
      "3             Ridge          NaN     True  268894.276985    0.895847\n",
      "4             Lasso          2.0     True   49931.780479    0.996363\n",
      "5             Ridge          2.0     True   49238.621234    0.996440\n"
     ]
    },
    {
     "name": "stderr",
     "output_type": "stream",
     "text": [
      "/home/tony-ubuntu/anaconda3/envs/practical_exam_env/lib/python3.12/site-packages/sklearn/linear_model/_coordinate_descent.py:697: ConvergenceWarning: Objective did not converge. You might want to increase the number of iterations, check the scale of the features or consider increasing regularisation. Duality gap: 2.737e+13, tolerance: 6.186e+10\n",
      "  model = cd_fast.enet_coordinate_descent(\n",
      "/home/tony-ubuntu/anaconda3/envs/practical_exam_env/lib/python3.12/site-packages/sklearn/linear_model/_coordinate_descent.py:697: ConvergenceWarning: Objective did not converge. You might want to increase the number of iterations, check the scale of the features or consider increasing regularisation. Duality gap: 2.625e+13, tolerance: 5.488e+10\n",
      "  model = cd_fast.enet_coordinate_descent(\n",
      "/home/tony-ubuntu/anaconda3/envs/practical_exam_env/lib/python3.12/site-packages/sklearn/linear_model/_coordinate_descent.py:697: ConvergenceWarning: Objective did not converge. You might want to increase the number of iterations, check the scale of the features or consider increasing regularisation. Duality gap: 2.738e+13, tolerance: 5.432e+10\n",
      "  model = cd_fast.enet_coordinate_descent(\n",
      "/home/tony-ubuntu/anaconda3/envs/practical_exam_env/lib/python3.12/site-packages/sklearn/linear_model/_coordinate_descent.py:697: ConvergenceWarning: Objective did not converge. You might want to increase the number of iterations, check the scale of the features or consider increasing regularisation. Duality gap: 2.676e+13, tolerance: 6.337e+10\n",
      "  model = cd_fast.enet_coordinate_descent(\n",
      "/home/tony-ubuntu/anaconda3/envs/practical_exam_env/lib/python3.12/site-packages/sklearn/linear_model/_coordinate_descent.py:697: ConvergenceWarning: Objective did not converge. You might want to increase the number of iterations, check the scale of the features or consider increasing regularisation. Duality gap: 2.720e+13, tolerance: 5.981e+10\n",
      "  model = cd_fast.enet_coordinate_descent(\n",
      "/home/tony-ubuntu/anaconda3/envs/practical_exam_env/lib/python3.12/site-packages/sklearn/linear_model/_coordinate_descent.py:697: ConvergenceWarning: Objective did not converge. You might want to increase the number of iterations, check the scale of the features or consider increasing regularisation. Duality gap: 8.832e+11, tolerance: 6.186e+10\n",
      "  model = cd_fast.enet_coordinate_descent(\n",
      "/home/tony-ubuntu/anaconda3/envs/practical_exam_env/lib/python3.12/site-packages/sklearn/linear_model/_coordinate_descent.py:697: ConvergenceWarning: Objective did not converge. You might want to increase the number of iterations, check the scale of the features or consider increasing regularisation. Duality gap: 8.315e+11, tolerance: 5.488e+10\n",
      "  model = cd_fast.enet_coordinate_descent(\n",
      "/home/tony-ubuntu/anaconda3/envs/practical_exam_env/lib/python3.12/site-packages/sklearn/linear_model/_coordinate_descent.py:697: ConvergenceWarning: Objective did not converge. You might want to increase the number of iterations, check the scale of the features or consider increasing regularisation. Duality gap: 9.851e+11, tolerance: 5.432e+10\n",
      "  model = cd_fast.enet_coordinate_descent(\n",
      "/home/tony-ubuntu/anaconda3/envs/practical_exam_env/lib/python3.12/site-packages/sklearn/linear_model/_coordinate_descent.py:697: ConvergenceWarning: Objective did not converge. You might want to increase the number of iterations, check the scale of the features or consider increasing regularisation. Duality gap: 9.668e+11, tolerance: 6.337e+10\n",
      "  model = cd_fast.enet_coordinate_descent(\n",
      "/home/tony-ubuntu/anaconda3/envs/practical_exam_env/lib/python3.12/site-packages/sklearn/linear_model/_coordinate_descent.py:697: ConvergenceWarning: Objective did not converge. You might want to increase the number of iterations, check the scale of the features or consider increasing regularisation. Duality gap: 9.963e+11, tolerance: 5.981e+10\n",
      "  model = cd_fast.enet_coordinate_descent(\n"
     ]
    }
   ],
   "source": [
    "model_evaluation = ModelEvaluation()\n",
    "# Create test and train sets\n",
    "X = features_df_pivot.drop(columns=[\"Country Name\", \"Year\"])\n",
    "y = target_df_pivot[\"cotwo_emi\"]\n",
    "\n",
    "results = []\n",
    "\n",
    "# Experiments to find best model and other parameters\n",
    "results.append(model_evaluation.run_q2_regression_experiment(LinearRegression(), X, y, poly_degree=None))\n",
    "results.append(model_evaluation.run_q2_regression_experiment(LinearRegression(), X, y, poly_degree=2))\n",
    "results.append(model_evaluation.run_q2_regression_experiment(Lasso(), X, y, poly_degree=None))\n",
    "results.append(model_evaluation.run_q2_regression_experiment(Ridge(), X, y, poly_degree=None))\n",
    "results.append(model_evaluation.run_q2_regression_experiment(Lasso(), X, y, poly_degree=2))\n",
    "results.append(model_evaluation.run_q2_regression_experiment(Ridge(), X, y, poly_degree=2))\n",
    "results_df = pd.DataFrame(results)\n",
    "print(results_df)\n"
   ]
  },
  {
   "cell_type": "code",
   "execution_count": 9,
   "metadata": {},
   "outputs": [
    {
     "name": "stdout",
     "output_type": "stream",
     "text": [
      "RMSE: 50039.91684759645\n",
      "R²: 0.9957532227638959\n",
      "Average percentage change in CO2 emissions: -0.3874761887839257%\n"
     ]
    }
   ],
   "source": [
    "# Training a linear regression model with the best parameter we found\n",
    "X_train, X_test, y_train, y_test = train_test_split(X, y, test_size=0.2, random_state=42)\n",
    "\n",
    "\n",
    "poly = PolynomialFeatures(degree=2, include_bias=False)\n",
    "X_train_polynomial = poly.fit_transform(X_train)\n",
    "X_test_polynomial = poly.transform(X_test)\n",
    "\n",
    "scaler = StandardScaler()\n",
    "X_train_scaled = scaler.fit_transform(X_train_polynomial)\n",
    "X_test_scaled = scaler.transform(X_test_polynomial)\n",
    "\n",
    "\n",
    "model = LinearRegression()\n",
    "\n",
    "model.fit(X_train_scaled, y_train)\n",
    "\n",
    "y_pred = model.predict(X_test_scaled)\n",
    "\n",
    "rmse = root_mean_squared_error(y_test, y_pred)\n",
    "r2 = r2_score(y_test, y_pred)\n",
    "\n",
    "print(f\"RMSE: {rmse}\")\n",
    "print(f\"R²: {r2}\")\n",
    "\n",
    "# Scenario Simulation\n",
    "X_test_scenario = X_test.copy()\n",
    "\n",
    "# Increase GDP by 10%\n",
    "X_test_scenario[\"gdp\"] *= 1.10\n",
    "\n",
    "X_test_scenario_poly = poly.transform(X_test_scenario)\n",
    "X_test_scenario_scaled = scaler.transform(X_test_scenario_poly)\n",
    "\n",
    "y_pred_scenario = model.predict(X_test_scenario_scaled)\n",
    "\n",
    "# Calculate the percentage change in CO2 emissions\n",
    "percentage_change = ((y_pred_scenario - y_pred) / y_pred) * 100\n",
    "\n",
    "average_change = np.mean(percentage_change)\n",
    "print(f\"Average percentage change in CO2 emissions: {average_change}%\")"
   ]
  },
  {
   "cell_type": "code",
   "execution_count": 10,
   "metadata": {},
   "outputs": [
    {
     "data": {
      "image/png": "[encoded data removed]",
      "text/plain": [
       "<Figure size 640x480 with 1 Axes>"
      ]
     },
     "metadata": {},
     "output_type": "display_data"
    }
   ],
   "source": [
    "plt.hist(percentage_change, bins=20)\n",
    "plt.xlabel(\"Percentage Change in CO2 Emissions\")\n",
    "plt.ylabel(\"Frequency\")\n",
    "plt.title(\"Distribution of Percentage Change in CO2 Emissions\")\n",
    "plt.show()"
   ]
  }
 ],
 "metadata": {
  "kernelspec": {
   "display_name": "practical_exam_env",
   "language": "python",
   "name": "python3"
  },
  "language_info": {
   "codemirror_mode": {
    "name": "ipython",
    "version": 3
   },
   "file_extension": ".py",
   "mimetype": "text/x-python",
   "name": "python",
   "nbconvert_exporter": "python",
   "pygments_lexer": "ipython3",
   "version": "3.12.4"
  }
 },
 "nbformat": 4,
 "nbformat_minor": 2
}
